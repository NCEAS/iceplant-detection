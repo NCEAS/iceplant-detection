{
 "cells": [
  {
   "cell_type": "code",
   "execution_count": 5,
   "id": "189e7488-7b81-44dc-be11-ab4b579c677f",
   "metadata": {},
   "outputs": [],
   "source": [
    "import geopandas as gpd\n",
    "import pandas as pd\n",
    "import glob\n",
    "import os"
   ]
  },
  {
   "cell_type": "code",
   "execution_count": 7,
   "id": "2efce4c3-d9ab-4aba-991a-105434f0ec18",
   "metadata": {},
   "outputs": [
    {
     "name": "stdout",
     "output_type": "stream",
     "text": [
      "Successfully combined and converted GeoJSON files from patches_label to test_label.shp\n"
     ]
    }
   ],
   "source": [
    "directory = 'patches_label'\n",
    "output_shapefile='test_label.shp'\n",
    "# List all GeoJSON files in the directory\n",
    "geojson_files = glob.glob(os.path.join(directory, '*.geojson'))\n",
    "# Initialize an empty list to store GeoDataFrames\n",
    "gdfs = []\n",
    "\n",
    "# Loop through files, read them as GeoDataFrames, and add them to the list\n",
    "for file in geojson_files:\n",
    "    gdf = gpd.read_file(file)\n",
    "    gdfs.append(gdf)\n",
    "\n",
    "# Use pandas to concatenate all GeoDataFrames into a single GeoDataFrame\n",
    "combined_gdf = pd.concat(gdfs, ignore_index=True).pipe(gpd.GeoDataFrame)\n",
    "\n",
    "# Ensure the GeoDataFrame retains a valid geometry column\n",
    "combined_gdf.set_geometry(col='geometry', inplace=True)\n",
    "\n",
    "# Save the combined GeoDataFrame to a Shapefile\n",
    "combined_gdf.to_file(driver='ESRI Shapefile', filename=output_shapefile)\n",
    "\n",
    "# If you face a CRSError about assigning CRS, you can manually assign it if all GeoJSON files share the same CRS, e.g.,\n",
    "# combined_gdf.crs = \"EPSG:4326\"  # Example: Assigning WGS 84 CRS to combined GeoDataFrame\n",
    "print(f'Successfully combined and converted GeoJSON files from {directory} to {output_shapefile}')"
   ]
  },
  {
   "cell_type": "code",
   "execution_count": null,
   "id": "5fb9970e-3b67-4938-aa5f-abcfb9306aa9",
   "metadata": {},
   "outputs": [],
   "source": []
  }
 ],
 "metadata": {
  "kernelspec": {
   "display_name": "Python 3 (ipykernel)",
   "language": "python",
   "name": "python3"
  },
  "language_info": {
   "codemirror_mode": {
    "name": "ipython",
    "version": 3
   },
   "file_extension": ".py",
   "mimetype": "text/x-python",
   "name": "python",
   "nbconvert_exporter": "python",
   "pygments_lexer": "ipython3",
   "version": "3.11.5"
  }
 },
 "nbformat": 4,
 "nbformat_minor": 5
}
