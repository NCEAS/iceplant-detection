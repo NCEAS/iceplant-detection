{
 "cells": [
  {
   "cell_type": "code",
   "execution_count": 1,
   "metadata": {},
   "outputs": [
    {
     "name": "stderr",
     "output_type": "stream",
     "text": [
      "INFO:albumentations.check_version:A new version of Albumentations is available: 1.4.10 (you have 1.4.8). Upgrade using: pip install --upgrade albumentations\n",
      "/root/miniconda3/envs/iceplants/lib/python3.9/site-packages/tqdm/auto.py:21: TqdmWarning: IProgress not found. Please update jupyter and ipywidgets. See https://ipywidgets.readthedocs.io/en/stable/user_install.html\n",
      "  from .autonotebook import tqdm as notebook_tqdm\n"
     ]
    }
   ],
   "source": [
    "import sys; sys.path.append('..')\n",
    "import numpy as np\n",
    "import torch\n",
    "from osgeo import gdal\n",
    "from main import UNet\n",
    "import albumentations as A\n",
    "from albumentations.pytorch import ToTensorV2\n",
    "from tqdm.contrib import itertools"
   ]
  },
  {
   "cell_type": "code",
   "execution_count": 2,
   "metadata": {},
   "outputs": [],
   "source": [
    "# RGB model\n",
    "# CHECKPOINT = '../experiments/exp/lightning_logs/version_0/checkpoints/epoch=99-step=1400.ckpt'\n",
    "\n",
    "# IRRG model\n",
    "CHECKPOINT = '../experiments/irrg/lightning_logs/version_1/checkpoints/epoch=199-step=2800.ckpt'\n",
    "\n",
    "TARGET = '/tank2/home/public/iceplant/predict/Dangermond2018_RGIR.tif'\n",
    "OUTPUT = '/tank2/home/public/iceplant/predict/Dangermond2018_RGIR_pred.tif'"
   ]
  },
  {
   "cell_type": "code",
   "execution_count": 3,
   "metadata": {},
   "outputs": [],
   "source": [
    "model = UNet.load_from_checkpoint(CHECKPOINT)"
   ]
  },
  {
   "cell_type": "code",
   "execution_count": 4,
   "metadata": {},
   "outputs": [
    {
     "name": "stderr",
     "output_type": "stream",
     "text": [
      "100%|██████████| 62304/62304 [05:41<00:00, 182.29it/s]\n"
     ]
    }
   ],
   "source": [
    "patch_size = 128\n",
    "overlap = 32\n",
    "\n",
    "\n",
    "transforms = A.Compose([\n",
    "    A.ToFloat(max_value=255),\n",
    "    ToTensorV2(),\n",
    "])\n",
    "\n",
    "# open the target raster\n",
    "ds = gdal.Open(TARGET)\n",
    "transform = ds.GetGeoTransform()\n",
    "projection = ds.GetProjection()\n",
    "x_size = ds.RasterXSize\n",
    "y_size = ds.RasterYSize\n",
    "num_bands = ds.RasterCount\n",
    "\n",
    "# create the output raster\n",
    "driver = gdal.GetDriverByName('GTiff')\n",
    "# use compression\n",
    "out_ds = driver.Create(OUTPUT, x_size, y_size, 1, gdal.GDT_Byte, options=['COMPRESS=LZW']) \n",
    "out_ds.SetGeoTransform(transform)\n",
    "out_ds.SetProjection(projection)\n",
    "\n",
    "\n",
    "def read_patch(dataset, x_off, y_off, x_size, y_size):\n",
    "    patch = dataset.ReadAsArray(x_off, y_off, x_size, y_size)\n",
    "    return patch.transpose(1, 2, 0).astype(np.uint8)\n",
    "\n",
    "def write_patch(dataset, data, x_off, y_off):\n",
    "    dataset.WriteArray(data.astype(np.uint8), x_off, y_off)\n",
    "\n",
    "\n",
    "model.eval()\n",
    "\n",
    "stride = patch_size - overlap\n",
    "\n",
    "for y, x in itertools.product(range(0, y_size, stride), range(0, x_size, stride)):\n",
    "    if (x + patch_size) > x_size or (y + patch_size) > y_size:\n",
    "        # Handle edge cases\n",
    "        x_patch_size = min(patch_size, x_size - x)\n",
    "        y_patch_size = min(patch_size, y_size - y)\n",
    "        patch = read_patch(ds, x, y, x_patch_size, y_patch_size)\n",
    "        patch = np.pad(patch, ((0, patch_size - y_patch_size), (0, patch_size - x_patch_size), (0, 0)), 'reflect')\n",
    "    else:\n",
    "        x_patch_size = y_patch_size = patch_size\n",
    "        patch = read_patch(ds, x, y, patch_size, patch_size)\n",
    "\n",
    "    patch = transforms(image=patch)['image'].unsqueeze(0).to(model.device)\n",
    "\n",
    "    with torch.no_grad():\n",
    "        pred = model.model(patch)\n",
    "        pred = torch.argmax(pred, dim=1).squeeze().cpu().numpy()\n",
    "\n",
    "    if (x + patch_size) <= x_size and (y + patch_size) <= y_size:\n",
    "        pred = pred[overlap//2:-overlap//2, overlap//2:-overlap//2]\n",
    "\n",
    "    # Handling the case where the patch size is different\n",
    "    pred = pred[:y_patch_size, :x_patch_size]\n",
    "\n",
    "    write_patch(out_ds, pred, x, y)\n",
    "\n",
    "\n",
    "out_ds.FlushCache()\n",
    "del out_ds"
   ]
  },
  {
   "cell_type": "code",
   "execution_count": null,
   "metadata": {},
   "outputs": [],
   "source": []
  }
 ],
 "metadata": {
  "kernelspec": {
   "display_name": "iceplants",
   "language": "python",
   "name": "python3"
  },
  "language_info": {
   "codemirror_mode": {
    "name": "ipython",
    "version": 3
   },
   "file_extension": ".py",
   "mimetype": "text/x-python",
   "name": "python",
   "nbconvert_exporter": "python",
   "pygments_lexer": "ipython3",
   "version": "3.9.18"
  }
 },
 "nbformat": 4,
 "nbformat_minor": 2
}
