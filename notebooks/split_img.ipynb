{
 "cells": [
  {
   "cell_type": "code",
   "execution_count": 1,
   "metadata": {},
   "outputs": [],
   "source": [
    "import os\n",
    "from glob import glob\n",
    "import numpy as np\n",
    "import cv2\n",
    "from osgeo import gdal"
   ]
  },
  {
   "cell_type": "code",
   "execution_count": 2,
   "metadata": {},
   "outputs": [],
   "source": [
    "IMG_ROOT = '/tank2/home/public/iceplant/rgb/Images_clip'\n",
    "MASK_ROOT = '/tank2/home/public/iceplant/rgb/Label_clip'\n",
    "OUTPUT_ROOT = '/tank2/home/public/iceplant/rgb'"
   ]
  },
  {
   "cell_type": "code",
   "execution_count": 4,
   "metadata": {},
   "outputs": [
    {
     "name": "stdout",
     "output_type": "stream",
     "text": [
      "Total patches: 8542\n"
     ]
    }
   ],
   "source": [
    "PSIZE = np.array([128, 128])\n",
    "STRIDE = np.array([128, 128])\n",
    "\n",
    "# make folders\n",
    "os.makedirs(os.path.join(OUTPUT_ROOT, 'train', 'images'), exist_ok=True)\n",
    "os.makedirs(os.path.join(OUTPUT_ROOT, 'train', 'masks'), exist_ok=True)\n",
    "\n",
    "os.makedirs(os.path.join(OUTPUT_ROOT, 'val', 'images'), exist_ok=True)\n",
    "os.makedirs(os.path.join(OUTPUT_ROOT, 'val', 'masks'), exist_ok=True)\n",
    "\n",
    "# get all image and mask paths\n",
    "files = sorted([os.path.basename(i) for i in glob(os.path.join(IMG_ROOT, '*.tif'))])\n",
    "\n",
    "count = 0\n",
    "\n",
    "for fname in files:\n",
    "    img_path = os.path.join(IMG_ROOT, fname)\n",
    "    mask_path = os.path.join(MASK_ROOT, fname)\n",
    "\n",
    "    # read image and mask\n",
    "    img_ds = gdal.Open(img_path)\n",
    "    mask_ds = gdal.Open(mask_path)\n",
    "\n",
    "    img = img_ds.ReadAsArray().transpose(1, 2, 0)\n",
    "    mask = mask_ds.ReadAsArray()\n",
    "\n",
    "    # split by PSIZE and STRIDE\n",
    "    # save patches to disk\n",
    "    for i in range(0, img.shape[0], STRIDE[0]):\n",
    "        for j in range(0, img.shape[1], STRIDE[1]):\n",
    "            img_patch = img[i:i+PSIZE[0], j:j+PSIZE[1]]\n",
    "            mask_patch = mask[i:i+PSIZE[0], j:j+PSIZE[1]]\n",
    "\n",
    "            if img_patch.shape[0] != PSIZE[0] or img_patch.shape[1] != PSIZE[1]:\n",
    "                continue\n",
    "\n",
    "            if 15 in mask_patch:\n",
    "                continue\n",
    "\n",
    "            mask_patch = mask_patch - 1\n",
    "\n",
    "            if fname == 'clip1.tif':\n",
    "                split = 'val'\n",
    "            else:\n",
    "                split = 'train'\n",
    "\n",
    "            cv2.imwrite(os.path.join(OUTPUT_ROOT, split, 'images', f'{fname}_{i}_{j}.png'), img_patch)\n",
    "            cv2.imwrite(os.path.join(OUTPUT_ROOT, split, 'masks', f'{fname}_{i}_{j}.png'), mask_patch)\n",
    "            count += 1\n",
    "\n",
    "print(\"Total patches:\", count)\n"
   ]
  },
  {
   "cell_type": "code",
   "execution_count": 4,
   "metadata": {},
   "outputs": [],
   "source": [
    "# # random split all patches to train and val by 8:2\n",
    "# # move files to train and val folders\n",
    "# files = sorted([os.path.basename(i) for i in glob(os.path.join(OUTPUT_ROOT, 'images', '*.png'))])\n",
    "# np.random.shuffle(files)\n",
    "\n",
    "# train_files = files[:int(len(files) * 0.8)]\n",
    "# val_files = files[int(len(files) * 0.8):]\n",
    "\n",
    "# # make folders\n",
    "# os.makedirs(os.path.join(OUTPUT_ROOT, 'train', 'images'), exist_ok=True)\n",
    "# os.makedirs(os.path.join(OUTPUT_ROOT, 'train', 'masks'), exist_ok=True)\n",
    "\n",
    "# os.makedirs(os.path.join(OUTPUT_ROOT, 'val', 'images'), exist_ok=True)\n",
    "# os.makedirs(os.path.join(OUTPUT_ROOT, 'val', 'masks'), exist_ok=True)\n",
    "\n",
    "# for fname in train_files:\n",
    "#     os.rename(os.path.join(OUTPUT_ROOT, 'images', fname), os.path.join(OUTPUT_ROOT, 'train', 'images', fname))\n",
    "#     os.rename(os.path.join(OUTPUT_ROOT, 'masks', fname), os.path.join(OUTPUT_ROOT, 'train', 'masks', fname))\n",
    "\n",
    "# for fname in val_files:\n",
    "#     os.rename(os.path.join(OUTPUT_ROOT, 'images', fname), os.path.join(OUTPUT_ROOT, 'val', 'images', fname))\n",
    "#     os.rename(os.path.join(OUTPUT_ROOT, 'masks', fname), os.path.join(OUTPUT_ROOT, 'val', 'masks', fname))\n",
    "\n",
    "# # remove empty folders\n",
    "# os.rmdir(os.path.join(OUTPUT_ROOT, 'images'))\n",
    "# os.rmdir(os.path.join(OUTPUT_ROOT, 'masks'))\n"
   ]
  },
  {
   "cell_type": "code",
   "execution_count": null,
   "metadata": {},
   "outputs": [],
   "source": []
  }
 ],
 "metadata": {
  "kernelspec": {
   "display_name": "iceplants",
   "language": "python",
   "name": "python3"
  },
  "language_info": {
   "codemirror_mode": {
    "name": "ipython",
    "version": 3
   },
   "file_extension": ".py",
   "mimetype": "text/x-python",
   "name": "python",
   "nbconvert_exporter": "python",
   "pygments_lexer": "ipython3",
   "version": "3.9.18"
  }
 },
 "nbformat": 4,
 "nbformat_minor": 2
}
