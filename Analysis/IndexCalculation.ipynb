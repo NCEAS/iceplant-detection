{
 "cells": [
  {
   "cell_type": "code",
   "execution_count": 1,
   "id": "eb99d4ee-039d-4c78-a5cb-4becb8981adc",
   "metadata": {},
   "outputs": [],
   "source": [
    "import rasterio\n",
    "from rasterio.plot import show\n",
    "import numpy as np"
   ]
  },
  {
   "cell_type": "code",
   "execution_count": 16,
   "id": "15ddbd66-a5f5-4ece-a02b-f571f58fff24",
   "metadata": {},
   "outputs": [],
   "source": [
    "def calculate_ndvi(nir_band, red_band):\n",
    "    \"\"\"Calculate NDVI from NIR and red bands.\"\"\"\n",
    "    nir = nir_band.astype(float)\n",
    "    red = red_band.astype(float)\n",
    "    np.seterr(divide='ignore', invalid='ignore')  # Ignore division by zero\n",
    "    ndvi = (nir - red) / (nir + red)\n",
    "    return np.nan_to_num(ndvi)  # Convert NaN to 0 for analysis\n",
    "\n",
    "def calculate_rendvi(nir_band, rededge_band):\n",
    "    \"\"\"Calculate RENDVI from NIR and red bands.\"\"\"\n",
    "    nir = nir_band.astype(float)\n",
    "    rededge = rededge_band.astype(float)\n",
    "    np.seterr(divide='ignore', invalid='ignore')  # Ignore division by zero\n",
    "    rendvi = (nir - rededge) / (nir + rededge)\n",
    "    return np.nan_to_num(rendvi)  # Convert NaN to 0 for analysis\n",
    "\n",
    "def calculate_ndwi(nir_band, green_band):\n",
    "    \"\"\"Calculate NDWI from NIR and red bands.\"\"\"\n",
    "    nir = nir_band.astype(float)\n",
    "    green = green_band.astype(float)\n",
    "    np.seterr(divide='ignore', invalid='ignore')  # Ignore division by zero\n",
    "    ndwi = (green - nir) / (green + nir)\n",
    "    return np.nan_to_num(ndwi)  # Convert NaN to 0 for analysis\n"
   ]
  },
  {
   "cell_type": "code",
   "execution_count": 29,
   "id": "884f3a14-7ae5-46ff-b66a-bbc6d3cc0565",
   "metadata": {},
   "outputs": [],
   "source": [
    "image_path = 'Sample0926.tif'\n",
    "with rasterio.open(image_path) as src:\n",
    "    blue = src.read(2)\n",
    "    green = src.read(4)\n",
    "    red = src.read(6)\n",
    "    re = src.read(7)\n",
    "    nir = src.read(8)\n",
    "    meta = src.meta\n"
   ]
  },
  {
   "cell_type": "code",
   "execution_count": 30,
   "id": "0225967a-0a30-43c0-871e-57c2811f6ebf",
   "metadata": {},
   "outputs": [],
   "source": [
    "ndvi=calculate_ndvi(nir, red)\n",
    "rendvi=calculate_rendvi(nir,re)\n",
    "ndwi=calculate_ndwi(nir,green)"
   ]
  },
  {
   "cell_type": "code",
   "execution_count": null,
   "id": "1f6c0312-34c0-48c0-a931-ffeaec0aaae4",
   "metadata": {},
   "outputs": [],
   "source": []
  },
  {
   "cell_type": "code",
   "execution_count": 31,
   "id": "83bdabea-7564-4346-8b46-9c6f2f93695f",
   "metadata": {},
   "outputs": [
    {
     "name": "stdout",
     "output_type": "stream",
     "text": [
      "NDVI Range: (-0.5654320987654321, 0.8129032258064516)\n",
      "RENDVI Range: (-0.4251012145748988, 0.6153846153846154)\n",
      "NDWI Range: (-0.7891139858433, 0.7086092715231788)\n"
     ]
    }
   ],
   "source": [
    "#value range\n",
    "print(f\"NDVI Range: {ndvi.min(), ndvi.max()}\")\n",
    "print(f\"RENDVI Range: {rendvi.min(), rendvi.max()}\")\n",
    "print(f\"NDWI Range: {ndwi.min(), ndwi.max()}\")"
   ]
  },
  {
   "cell_type": "code",
   "execution_count": 33,
   "id": "30f9ee37-e951-4c91-85a8-3fbca2bbc1c2",
   "metadata": {},
   "outputs": [],
   "source": [
    "meta.update(dtype=rasterio.float32, count=1)\n",
    "# Save NDVI\n",
    "with rasterio.open('index/ndvi_0926.tif', 'w', **meta) as dst:\n",
    "    dst.write(ndvi.astype(rasterio.float32), 1)\n",
    "with rasterio.open('index/rendvi_0926.tif', 'w', **meta) as dst:\n",
    "    dst.write(rendvi.astype(rasterio.float32), 1)\n",
    "with rasterio.open('index/ndwi_0926.tif', 'w', **meta) as dst:\n",
    "    dst.write(ndwi.astype(rasterio.float32), 1)"
   ]
  },
  {
   "cell_type": "code",
   "execution_count": null,
   "id": "5e9a5b13-c19b-4f56-b436-408a2e0196e5",
   "metadata": {},
   "outputs": [],
   "source": []
  }
 ],
 "metadata": {
  "kernelspec": {
   "display_name": "Python 3 (ipykernel)",
   "language": "python",
   "name": "python3"
  },
  "language_info": {
   "codemirror_mode": {
    "name": "ipython",
    "version": 3
   },
   "file_extension": ".py",
   "mimetype": "text/x-python",
   "name": "python",
   "nbconvert_exporter": "python",
   "pygments_lexer": "ipython3",
   "version": "3.11.5"
  }
 },
 "nbformat": 4,
 "nbformat_minor": 5
}
